{
 "cells": [
  {
   "cell_type": "code",
   "execution_count": 1,
   "id": "5ccb3ddc-a4f3-400b-b42d-53365d10f5b0",
   "metadata": {},
   "outputs": [
    {
     "ename": "ModuleNotFoundError",
     "evalue": "No module named 'modules'",
     "output_type": "error",
     "traceback": [
      "\u001b[0;31m---------------------------------------------------------------------------\u001b[0m",
      "\u001b[0;31mModuleNotFoundError\u001b[0m                       Traceback (most recent call last)",
      "Cell \u001b[0;32mIn[1], line 2\u001b[0m\n\u001b[1;32m      1\u001b[0m \u001b[38;5;66;03m# Import modules\u001b[39;00m\n\u001b[0;32m----> 2\u001b[0m \u001b[38;5;28;01mfrom\u001b[39;00m \u001b[38;5;21;01mmodules\u001b[39;00m\u001b[38;5;21;01m.\u001b[39;00m\u001b[38;5;21;01mdata_loader\u001b[39;00m \u001b[38;5;28;01mimport\u001b[39;00m create_ffn_dataset\n\u001b[1;32m      3\u001b[0m \u001b[38;5;66;03m#from models.ffn import build_ffn\u001b[39;00m\n\u001b[1;32m      4\u001b[0m \u001b[38;5;66;03m#from modules.training_utils import train_ffn\u001b[39;00m\n",
      "\u001b[0;31mModuleNotFoundError\u001b[0m: No module named 'modules'"
     ]
    }
   ],
   "source": [
    "# Import modules\n",
    "from modules.data_loader import create_ffn_dataset\n",
    "#from models.ffn import build_ffn\n",
    "#from modules.training_utils import train_ffn"
   ]
  },
  {
   "cell_type": "code",
   "execution_count": null,
   "id": "55978bbb-3198-49d7-b751-cbe87dc56416",
   "metadata": {},
   "outputs": [],
   "source": []
  }
 ],
 "metadata": {
  "kernelspec": {
   "display_name": "Python 3 (ipykernel)",
   "language": "python",
   "name": "python3"
  },
  "language_info": {
   "codemirror_mode": {
    "name": "ipython",
    "version": 3
   },
   "file_extension": ".py",
   "mimetype": "text/x-python",
   "name": "python",
   "nbconvert_exporter": "python",
   "pygments_lexer": "ipython3",
   "version": "3.8.10"
  }
 },
 "nbformat": 4,
 "nbformat_minor": 5
}
