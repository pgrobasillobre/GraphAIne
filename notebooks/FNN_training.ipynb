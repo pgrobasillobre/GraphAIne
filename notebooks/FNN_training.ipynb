{
 "cells": [
  {
   "cell_type": "code",
   "execution_count": 1,
   "id": "5ccb3ddc-a4f3-400b-b42d-53365d10f5b0",
   "metadata": {},
   "outputs": [
    {
     "name": "stderr",
     "output_type": "stream",
     "text": [
      "2025-01-29 11:37:27.590894: I tensorflow/tsl/cuda/cudart_stub.cc:28] Could not find cuda drivers on your machine, GPU will not be used.\n",
      "2025-01-29 11:37:27.629711: I tensorflow/tsl/cuda/cudart_stub.cc:28] Could not find cuda drivers on your machine, GPU will not be used.\n",
      "2025-01-29 11:37:27.630611: I tensorflow/core/platform/cpu_feature_guard.cc:182] This TensorFlow binary is optimized to use available CPU instructions in performance-critical operations.\n",
      "To enable the following instructions: AVX2 AVX512F FMA, in other operations, rebuild TensorFlow with the appropriate compiler flags.\n",
      "2025-01-29 11:37:28.298775: W tensorflow/compiler/tf2tensorrt/utils/py_utils.cc:38] TF-TRT Warning: Could not find TensorRT\n"
     ]
    }
   ],
   "source": [
    "# Import modules\n",
    "from src.modules.data_loader import create_ffn_dataset\n",
    "from src.models.fnn import build_ffn\n",
    "#from models.ffn import build_ffn\n",
    "#from modules.training_utils import train_ffn"
   ]
  },
  {
   "cell_type": "code",
   "execution_count": 4,
   "id": "55978bbb-3198-49d7-b751-cbe87dc56416",
   "metadata": {},
   "outputs": [],
   "source": [
    "# File paths\n",
    "tfrecord_file = \"../data/FFNs/FFNs_init.tfrecord\"\n",
    "\n",
    "# Input parameters\n",
    "max_atoms = 7662 # Required for fixed sized FNN\n",
    "input_geometry_shape = (max_atoms, 3)  # Example geometry shape\n",
    "input_frequency_shape = (1,)\n",
    "\n",
    "# Training hyperparameters\n",
    "batch_size = 32\n",
    "epochs = 20\n",
    "learning_rate = 1e-3"
   ]
  },
  {
   "cell_type": "code",
   "execution_count": 3,
   "id": "28555ab6-d9ef-417c-9cae-50dd30b9b494",
   "metadata": {},
   "outputs": [
    {
     "name": "stdout",
     "output_type": "stream",
     "text": [
      "Dataset loaded.\n"
     ]
    }
   ],
   "source": [
    "# Load dataset\n",
    "print(\"Loading dataset...\")\n",
    "dataset = create_ffn_dataset(tfrecord_file, batch_size=batch_size)\n",
    "print(\"Dataset loaded.\")"
   ]
  },
  {
   "cell_type": "code",
   "execution_count": null,
   "id": "9ca924ba-a850-4a40-9758-3620e35768ff",
   "metadata": {},
   "outputs": [],
   "source": [
    "# Build model\n",
    "print(\"Building model...\")\n",
    "model = build_ffn(input_geometry_shape, input_frequency_shape)\n",
    "model.summary()"
   ]
  }
 ],
 "metadata": {
  "kernelspec": {
   "display_name": "Python 3 (ipykernel)",
   "language": "python",
   "name": "python3"
  },
  "language_info": {
   "codemirror_mode": {
    "name": "ipython",
    "version": 3
   },
   "file_extension": ".py",
   "mimetype": "text/x-python",
   "name": "python",
   "nbconvert_exporter": "python",
   "pygments_lexer": "ipython3",
   "version": "3.8.10"
  }
 },
 "nbformat": 4,
 "nbformat_minor": 5
}
