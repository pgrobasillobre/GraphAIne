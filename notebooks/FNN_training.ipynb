{
 "cells": [
  {
   "cell_type": "code",
   "execution_count": 1,
   "id": "5ccb3ddc-a4f3-400b-b42d-53365d10f5b0",
   "metadata": {},
   "outputs": [
    {
     "name": "stderr",
     "output_type": "stream",
     "text": [
      "2025-01-31 12:27:07.514878: I tensorflow/tsl/cuda/cudart_stub.cc:28] Could not find cuda drivers on your machine, GPU will not be used.\n",
      "2025-01-31 12:27:07.551076: I tensorflow/tsl/cuda/cudart_stub.cc:28] Could not find cuda drivers on your machine, GPU will not be used.\n",
      "2025-01-31 12:27:07.551990: I tensorflow/core/platform/cpu_feature_guard.cc:182] This TensorFlow binary is optimized to use available CPU instructions in performance-critical operations.\n",
      "To enable the following instructions: AVX2 AVX512F FMA, in other operations, rebuild TensorFlow with the appropriate compiler flags.\n",
      "2025-01-31 12:27:08.224814: W tensorflow/compiler/tf2tensorrt/utils/py_utils.cc:38] TF-TRT Warning: Could not find TensorRT\n"
     ]
    }
   ],
   "source": [
    "# Import modules\n",
    "import tensorflow as tf\n",
    "\n",
    "from src.modules.data_loader import create_ffn_dataset\n",
    "from src.modules.training_utils import train_ffn\n",
    "from src.models.fnn import build_ffn"
   ]
  },
  {
   "cell_type": "code",
   "execution_count": 2,
   "id": "55978bbb-3198-49d7-b751-cbe87dc56416",
   "metadata": {},
   "outputs": [],
   "source": [
    "# File paths\n",
    "tfrecord_file = \"../data/FFNs/FFNs_init.tfrecord\"\n",
    "\n",
    "# Input parameters\n",
    "max_atoms = 7662 # Required for fixed sized FNN\n",
    "input_geometry_shape = (max_atoms, 3)  # Example geometry shape\n",
    "input_frequency_shape = (1,)\n",
    "\n",
    "# Training hyperparameters\n",
    "batch_size = 32\n",
    "epochs = 20\n",
    "learning_rate = 1e-3"
   ]
  },
  {
   "cell_type": "code",
   "execution_count": 3,
   "id": "28555ab6-d9ef-417c-9cae-50dd30b9b494",
   "metadata": {},
   "outputs": [
    {
     "name": "stdout",
     "output_type": "stream",
     "text": [
      "Loading dataset...\n",
      "Dataset loaded.\n"
     ]
    }
   ],
   "source": [
    "# Load dataset\n",
    "print(\"Loading dataset...\")\n",
    "dataset = create_ffn_dataset(tfrecord_file, batch_size=batch_size)\n",
    "print(\"Dataset loaded.\")"
   ]
  },
  {
   "cell_type": "code",
   "execution_count": 4,
   "id": "9ca924ba-a850-4a40-9758-3620e35768ff",
   "metadata": {},
   "outputs": [
    {
     "name": "stdout",
     "output_type": "stream",
     "text": [
      "Building model...\n",
      "Model: \"GraphAIne_FFN_Model\"\n",
      "__________________________________________________________________________________________________\n",
      " Layer (type)                Output Shape                 Param #   Connected to                  \n",
      "==================================================================================================\n",
      " geometry_input (InputLayer  [(None, 7662, 3)]            0         []                            \n",
      " )                                                                                                \n",
      "                                                                                                  \n",
      " conv1d (Conv1D)             (None, 7662, 64)             640       ['geometry_input[0][0]']      \n",
      "                                                                                                  \n",
      " conv1d_1 (Conv1D)           (None, 7662, 128)            24704     ['conv1d[0][0]']              \n",
      "                                                                                                  \n",
      " frequency_input (InputLaye  [(None, 1)]                  0         []                            \n",
      " r)                                                                                               \n",
      "                                                                                                  \n",
      " global_average_pooling1d (  (None, 128)                  0         ['conv1d_1[0][0]']            \n",
      " GlobalAveragePooling1D)                                                                          \n",
      "                                                                                                  \n",
      " dense_1 (Dense)             (None, 32)                   64        ['frequency_input[0][0]']     \n",
      "                                                                                                  \n",
      " dense (Dense)               (None, 256)                  33024     ['global_average_pooling1d[0][\n",
      "                                                                    0]']                          \n",
      "                                                                                                  \n",
      " dense_2 (Dense)             (None, 16)                   528       ['dense_1[0][0]']             \n",
      "                                                                                                  \n",
      " concatenate (Concatenate)   (None, 272)                  0         ['dense[0][0]',               \n",
      "                                                                     'dense_2[0][0]']             \n",
      "                                                                                                  \n",
      " dense_3 (Dense)             (None, 128)                  34944     ['concatenate[0][0]']         \n",
      "                                                                                                  \n",
      " dense_4 (Dense)             (None, 64)                   8256      ['dense_3[0][0]']             \n",
      "                                                                                                  \n",
      " dense_5 (Dense)             (None, 45972)                2988180   ['dense_4[0][0]']             \n",
      "                                                                                                  \n",
      " reshape (Reshape)           (None, 7662, 6)              0         ['dense_5[0][0]']             \n",
      "                                                                                                  \n",
      "==================================================================================================\n",
      "Total params: 3090340 (11.79 MB)\n",
      "Trainable params: 3090340 (11.79 MB)\n",
      "Non-trainable params: 0 (0.00 Byte)\n",
      "__________________________________________________________________________________________________\n"
     ]
    }
   ],
   "source": [
    "# Build model\n",
    "print(\"Building model...\")\n",
    "model = build_ffn(input_geometry_shape, input_frequency_shape)\n",
    "model.summary()"
   ]
  },
  {
   "cell_type": "code",
   "execution_count": 5,
   "id": "6e793555-6cc2-46e7-b835-18a6957d9f4e",
   "metadata": {},
   "outputs": [
    {
     "name": "stdout",
     "output_type": "stream",
     "text": [
      "Training model...\n",
      "\n",
      "🚀 Epoch 1/20 - Training GraphAIne_FFN_Model\n",
      "Step 0, Loss: 218.0434112548828\n",
      "tf.Tensor(\n",
      "[[0.8 ]\n",
      " [0.16]\n",
      " [0.53]\n",
      " [0.74]\n",
      " [0.75]\n",
      " [0.49]\n",
      " [0.72]\n",
      " [0.43]\n",
      " [0.65]\n",
      " [0.3 ]\n",
      " [0.9 ]\n",
      " [0.09]\n",
      " [0.46]\n",
      " [0.66]\n",
      " [0.99]\n",
      " [0.82]\n",
      " [0.5 ]\n",
      " [0.73]\n",
      " [0.43]\n",
      " [0.05]\n",
      " [0.59]\n",
      " [0.73]\n",
      " [0.81]\n",
      " [0.32]\n",
      " [0.05]\n",
      " [0.36]\n",
      " [0.26]\n",
      " [0.3 ]\n",
      " [0.45]\n",
      " [0.64]\n",
      " [0.45]\n",
      " [0.29]], shape=(32, 1), dtype=float32)\n"
     ]
    },
    {
     "ename": "SystemExit",
     "evalue": "",
     "output_type": "error",
     "traceback": [
      "An exception has occurred, use %tb to see the full traceback.\n",
      "\u001b[0;31mSystemExit\u001b[0m\n"
     ]
    },
    {
     "name": "stderr",
     "output_type": "stream",
     "text": [
      "/home/pablo/.local/lib/python3.8/site-packages/IPython/core/interactiveshell.py:3513: UserWarning: To exit: use 'exit', 'quit', or Ctrl-D.\n",
      "  warn(\"To exit: use 'exit', 'quit', or Ctrl-D.\", stacklevel=1)\n"
     ]
    }
   ],
   "source": [
    "# Train model\n",
    "print(\"Training model...\")\n",
    "train_ffn(model, dataset, epochs=epochs, learning_rate=learning_rate, checkpoint_path=\"../checkpoints/ffn\")\n",
    "\n",
    "model.save(\"../checkpoints/ffn_model.keras\")  # Save in new Keras format\n",
    "print(\"✅ Model saved!\")"
   ]
  },
  {
   "cell_type": "code",
   "execution_count": null,
   "id": "05244b61-76dc-44c6-b399-6c62eb9287ad",
   "metadata": {},
   "outputs": [],
   "source": []
  },
  {
   "cell_type": "code",
   "execution_count": null,
   "id": "e0629d02-558a-4ed2-9160-4fbf781ed48b",
   "metadata": {},
   "outputs": [],
   "source": []
  }
 ],
 "metadata": {
  "kernelspec": {
   "display_name": "Python 3 (ipykernel)",
   "language": "python",
   "name": "python3"
  },
  "language_info": {
   "codemirror_mode": {
    "name": "ipython",
    "version": 3
   },
   "file_extension": ".py",
   "mimetype": "text/x-python",
   "name": "python",
   "nbconvert_exporter": "python",
   "pygments_lexer": "ipython3",
   "version": "3.8.10"
  }
 },
 "nbformat": 4,
 "nbformat_minor": 5
}
